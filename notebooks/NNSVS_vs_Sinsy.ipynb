{
 "cells": [
  {
   "cell_type": "markdown",
   "id": "ee1eef4e",
   "metadata": {},
   "source": [
    "# NNSVS vs. Sinsy\n",
    "\n",
    "[![Open In Colab](https://colab.research.google.com/assets/colab-badge.svg)](https://colab.research.google.com/github/r9y9/nnsvs/blob/master/notebooks/nnsvs_vs_sinsy.ipynb)\n",
    "\n",
    "\n",
    "This notebooks show some samples to compare NNSVS and Sinsy.\n",
    "\n",
    "https://www.sinsy.jp/\n",
    "\n",
    "NOTE: sinsy samples were generated at 2022/03/27."
   ]
  },
  {
   "cell_type": "markdown",
   "id": "7ffdb4e4",
   "metadata": {},
   "source": [
    "## Preparation"
   ]
  },
  {
   "cell_type": "code",
   "execution_count": null,
   "id": "2978569c",
   "metadata": {},
   "outputs": [],
   "source": [
    "%%capture\n",
    "try:\n",
    "    import nnsvs\n",
    "except ImportError:\n",
    "    ! pip install git+https://github.com/r9y9/nnsvs"
   ]
  },
  {
   "cell_type": "code",
   "execution_count": null,
   "id": "2f69e83e",
   "metadata": {},
   "outputs": [],
   "source": [
    "%pylab inline\n",
    "%load_ext autoreload\n",
    "%autoreload\n",
    "import IPython\n",
    "from IPython.display import Audio\n",
    "from scipy.io import wavfile\n",
    "import pysinsy\n",
    "from nnmnkwii.io import hts\n",
    "from urllib.request import urlretrieve\n",
    "import tempfile"
   ]
  },
  {
   "cell_type": "code",
   "execution_count": null,
   "id": "70ea3c3d",
   "metadata": {},
   "outputs": [],
   "source": [
    "from nnsvs.pretrained import create_svs_engine\n",
    "from nnsvs.svs import SPSVS\n",
    "import nnsvs"
   ]
  },
  {
   "cell_type": "code",
   "execution_count": null,
   "id": "28e52fab",
   "metadata": {},
   "outputs": [],
   "source": [
    "def svs_display(model, xml_file):\n",
    "    engine = create_svs_engine(model)\n",
    "    contexts = pysinsy.extract_fullcontext(xml_file)\n",
    "    labels = hts.HTSLabelFile.create_from_contexts(contexts)\n",
    "    wav, sr = engine.svs(labels)\n",
    "    IPython.display.display(Audio(wav, rate=sr))\n",
    "    \n",
    "def wav_display(url):\n",
    "    with tempfile.NamedTemporaryFile(suffix=\".wav\") as f:\n",
    "        urlretrieve(url, f.name) \n",
    "        sr, wav = wavfile.read(f.name)\n",
    "    IPython.display.display(Audio(wav, rate=sr))    "
   ]
  },
  {
   "cell_type": "markdown",
   "id": "9e82b9ec",
   "metadata": {},
   "source": [
    "## Sample 1: げんこつ山のタヌキさん"
   ]
  },
  {
   "cell_type": "code",
   "execution_count": null,
   "id": "a5b59fdf",
   "metadata": {},
   "outputs": [],
   "source": [
    "print(\"Sinsy f00001j\")\n",
    "wav_display(\"https://www.dropbox.com/s/qq6w7bbcc5ikcdf/sinsy_song070_f00001j_063.wav?dl=1\")\n",
    "print(\"NNSVS latest\")\n",
    "svs_display(\"r9y9/yoko_latest\", nnsvs.util.example_xml_file(\"song070_f00001_063\"))\n",
    "print(\"Sinsy f00001j_dnn_beta4\")\n",
    "wav_display(\"https://www.dropbox.com/s/4epe08wqebyuh4g/sinsy_song070_f00001j_dnn_beta4_063.wav?dl=1\")"
   ]
  },
  {
   "cell_type": "markdown",
   "id": "8cade8cd",
   "metadata": {},
   "source": [
    "## Sample 2: Get Over"
   ]
  },
  {
   "cell_type": "code",
   "execution_count": null,
   "id": "1cb9aae3",
   "metadata": {},
   "outputs": [],
   "source": [
    "print(\"Sinsy f00001j\")\n",
    "wav_display(\"https://www.dropbox.com/s/kam9kju97umi6li/sinsy_f00001j_get_over.wav?dl=1\")\n",
    "print(\"NNSVS latest\")\n",
    "svs_display(\"r9y9/yoko_latest\", nnsvs.util.example_xml_file(\"get_over\"))\n",
    "print(\"Sinsy f00001j_dnn_beta4\")\n",
    "wav_display(\"https://www.dropbox.com/s/7st0acvguvbdoaj/sinsy_f00001j_dnn_beta4_get_over.wav?dl=1\")"
   ]
  },
  {
   "cell_type": "markdown",
   "id": "304446bd",
   "metadata": {},
   "source": [
    "## Sample 3: 雪"
   ]
  },
  {
   "cell_type": "code",
   "execution_count": null,
   "id": "0f8446c4",
   "metadata": {},
   "outputs": [],
   "source": [
    "print(\"Sinsy f00001j\")\n",
    "wav_display(\"https://www.dropbox.com/s/ho5xgkil8r3f3ed/sinsy_yuki_f00001j.wav?dl=1\")\n",
    "print(\"NNSVS latest\")\n",
    "svs_display(\"r9y9/yoko_latest\", nnsvs.util.example_xml_file(\"yuki\"))\n",
    "print(\"Sinsy f00001j_dnn_beta4\")\n",
    "wav_display(\"https://www.dropbox.com/s/jo2ool0nytzxln2/sinsy_yuki_f00001j_dnn_beta4.wav?dl=1\")"
   ]
  }
 ],
 "metadata": {
  "kernelspec": {
   "display_name": "Python 3 (ipykernel)",
   "language": "python",
   "name": "python3"
  },
  "language_info": {
   "codemirror_mode": {
    "name": "ipython",
    "version": 3
   },
   "file_extension": ".py",
   "mimetype": "text/x-python",
   "name": "python",
   "nbconvert_exporter": "python",
   "pygments_lexer": "ipython3",
   "version": "3.8.12"
  }
 },
 "nbformat": 4,
 "nbformat_minor": 5
}

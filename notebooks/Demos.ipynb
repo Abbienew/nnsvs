{
 "cells": [
  {
   "cell_type": "markdown",
   "id": "ee1eef4e",
   "metadata": {},
   "source": [
    "# NNSVS demos \n",
    "\n",
    "[![Open In Colab](https://colab.research.google.com/assets/colab-badge.svg)](https://colab.research.google.com/github/r9y9/nnsvs/blob/master/notebooks/Demos.ipynb)\n",
    "\n",
    "\n",
    "Singing voice synthesis (SVS) demo using nnsvs. All the models were trained using https://github.com/r9y9/nnsvs/. Recipes to reproduce experiments are included in the repository."
   ]
  },
  {
   "cell_type": "markdown",
   "id": "7ffdb4e4",
   "metadata": {},
   "source": [
    "## Preparation"
   ]
  },
  {
   "cell_type": "markdown",
   "id": "980a4888",
   "metadata": {},
   "source": [
    "###  Download music xml files"
   ]
  },
  {
   "cell_type": "code",
   "execution_count": null,
   "id": "7cb3ac19",
   "metadata": {},
   "outputs": [],
   "source": [
    "! [ ! -e kiritan_singing ] && git clone -q https://github.com/r9y9/kiritan_singing"
   ]
  },
  {
   "cell_type": "code",
   "execution_count": null,
   "id": "2978569c",
   "metadata": {},
   "outputs": [],
   "source": [
    "%%capture\n",
    "try:\n",
    "    import nnsvs\n",
    "except ImportError:\n",
    "    ! pip install git+https://github.com/r9y9/nnsvs"
   ]
  },
  {
   "cell_type": "markdown",
   "id": "7d9db0ce",
   "metadata": {},
   "source": [
    "### Imports"
   ]
  },
  {
   "cell_type": "code",
   "execution_count": null,
   "id": "2f69e83e",
   "metadata": {},
   "outputs": [],
   "source": [
    "%pylab inline\n",
    "%load_ext autoreload\n",
    "%autoreload\n",
    "import IPython\n",
    "from IPython.display import Audio\n",
    "import os\n",
    "import numpy as np\n",
    "import torch\n",
    "import librosa\n",
    "import librosa.display\n",
    "import pysinsy\n",
    "from nnmnkwii.io import hts"
   ]
  },
  {
   "cell_type": "code",
   "execution_count": null,
   "id": "08e9a1dc",
   "metadata": {},
   "outputs": [],
   "source": [
    "# NOTE: list r9y9's pretrained models. Please consider them as experimetnal\n",
    "from nnsvs.pretrained import get_available_model_ids\n",
    "for model in get_available_model_ids():\n",
    "    print(model)"
   ]
  },
  {
   "cell_type": "code",
   "execution_count": null,
   "id": "70ea3c3d",
   "metadata": {},
   "outputs": [],
   "source": [
    "# A high-level interface to use nnsvs's pretrained models\n",
    "from nnsvs.pretrained import create_svs_engine"
   ]
  },
  {
   "cell_type": "markdown",
   "id": "15347a19",
   "metadata": {},
   "source": [
    "## kiritan_singing\n",
    "\n",
    "https://zunko.jp/kiridev/login.php "
   ]
  },
  {
   "cell_type": "code",
   "execution_count": null,
   "id": "abba53e1",
   "metadata": {},
   "outputs": [],
   "source": [
    "engine = create_svs_engine(\"r9y9/20220321_kiritan_timelag_mdn_duration_mdn_acoustic_resf0conv\")\n",
    "\n",
    "# NOTE: 01.xml and 05.xml were not included in the training data\n",
    "contexts = pysinsy.extract_fullcontext(\"kiritan_singing/musicxml/05.xml\")\n",
    "labels = hts.HTSLabelFile.create_from_contexts(contexts)\n",
    "\n",
    "wav, sr = engine.svs(labels)\n",
    "\n",
    "# Trim long silence part of the beginning\n",
    "# NOTE: this is not generally needed\n",
    "wav = librosa.effects.trim(wav.astype(np.float64), top_db=40)[0]\n",
    "\n",
    "Audio(wav, rate=sr)"
   ]
  },
  {
   "cell_type": "code",
   "execution_count": null,
   "id": "5dc0e39b",
   "metadata": {},
   "outputs": [],
   "source": [
    "fig, ax = plt.subplots(figsize=(14,2))\n",
    "librosa.display.waveshow(wav.astype(np.float32), sr, ax=ax)\n",
    "ax.set_xlabel(\"Time [sec]\")\n",
    "ax.set_ylabel(\"Amplitude\")\n",
    "plt.tight_layout()"
   ]
  },
  {
   "cell_type": "markdown",
   "id": "1bd1ac38",
   "metadata": {},
   "source": [
    "## nit-song070\n",
    "\n",
    "http://hts.sp.nitech.ac.jp/archives/2.3/HTS-demo_NIT-SONG070-F001.tar.bz2"
   ]
  },
  {
   "cell_type": "code",
   "execution_count": null,
   "id": "d23193f1",
   "metadata": {},
   "outputs": [],
   "source": [
    "engine = create_svs_engine(\"r9y9/20220322_yoko_timelag_mdn_duration_mdn_acoustic_resf0conv\")\n",
    "\n",
    "contexts = pysinsy.extract_fullcontext(\"kiritan_singing/musicxml/05.xml\")\n",
    "labels = hts.HTSLabelFile.create_from_contexts(contexts)\n",
    "\n",
    "wav, sr = engine.svs(labels)\n",
    "\n",
    "wav = librosa.effects.trim(wav.astype(np.float64), top_db=40)[0]\n",
    "\n",
    "Audio(wav, rate=sr)"
   ]
  },
  {
   "cell_type": "code",
   "execution_count": null,
   "id": "04878f7f",
   "metadata": {},
   "outputs": [],
   "source": [
    "fig, ax = plt.subplots(figsize=(14,2))\n",
    "librosa.display.waveshow(wav.astype(np.float32), sr, ax=ax)\n",
    "ax.set_xlabel(\"Time [sec]\")\n",
    "ax.set_ylabel(\"Amplitude\")\n",
    "plt.tight_layout()"
   ]
  },
  {
   "cell_type": "markdown",
   "id": "24832985",
   "metadata": {},
   "source": [
    "## References\n",
    "\n",
    "- nnsvs: https://github.com/r9y9/nnsvs"
   ]
  }
 ],
 "metadata": {
  "kernelspec": {
   "display_name": "Python 3 (ipykernel)",
   "language": "python",
   "name": "python3"
  },
  "language_info": {
   "codemirror_mode": {
    "name": "ipython",
    "version": 3
   },
   "file_extension": ".py",
   "mimetype": "text/x-python",
   "name": "python",
   "nbconvert_exporter": "python",
   "pygments_lexer": "ipython3",
   "version": "3.8.12"
  }
 },
 "nbformat": 4,
 "nbformat_minor": 5
}
